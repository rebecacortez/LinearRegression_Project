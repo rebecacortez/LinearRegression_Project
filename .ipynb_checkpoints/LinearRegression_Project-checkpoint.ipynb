{
 "cells": [
  {
   "cell_type": "code",
   "execution_count": 49,
   "id": "8f2309a7",
   "metadata": {
    "ExecuteTime": {
     "end_time": "2021-09-22T12:44:51.808943Z",
     "start_time": "2021-09-22T12:44:51.805448Z"
    }
   },
   "outputs": [],
   "source": [
    "import pandas as pd\n",
    "from sklearn.linear_model import LinearRegression\n",
    "from sklearn.metrics import mean_squared_error\n",
    "from sklearn.neighbors import KNeighborsRegressor\n",
    "import matplotlib.pyplot as plt\n",
    "import seaborn as sns\n",
    "import numpy as np\n",
    "import statistics"
   ]
  },
  {
   "cell_type": "code",
   "execution_count": 50,
   "id": "41870993",
   "metadata": {
    "ExecuteTime": {
     "end_time": "2021-09-22T12:44:52.407657Z",
     "start_time": "2021-09-22T12:44:52.352857Z"
    }
   },
   "outputs": [],
   "source": [
    "diamonds = pd.read_csv('diamonds.csv')\n",
    "rdiamonds = pd.read_csv('rick_diamonds.csv')"
   ]
  },
  {
   "cell_type": "markdown",
   "id": "9db095ba",
   "metadata": {},
   "source": [
    "# Exploratory data analysis"
   ]
  },
  {
   "cell_type": "code",
   "execution_count": 51,
   "id": "339c173e",
   "metadata": {
    "ExecuteTime": {
     "end_time": "2021-09-22T12:44:53.512673Z",
     "start_time": "2021-09-22T12:44:53.499891Z"
    }
   },
   "outputs": [
    {
     "data": {
      "text/html": [
       "<div>\n",
       "<style scoped>\n",
       "    .dataframe tbody tr th:only-of-type {\n",
       "        vertical-align: middle;\n",
       "    }\n",
       "\n",
       "    .dataframe tbody tr th {\n",
       "        vertical-align: top;\n",
       "    }\n",
       "\n",
       "    .dataframe thead th {\n",
       "        text-align: right;\n",
       "    }\n",
       "</style>\n",
       "<table border=\"1\" class=\"dataframe\">\n",
       "  <thead>\n",
       "    <tr style=\"text-align: right;\">\n",
       "      <th></th>\n",
       "      <th>carat</th>\n",
       "      <th>cut</th>\n",
       "      <th>color</th>\n",
       "      <th>clarity</th>\n",
       "      <th>depth</th>\n",
       "      <th>table</th>\n",
       "      <th>price</th>\n",
       "      <th>x</th>\n",
       "      <th>y</th>\n",
       "      <th>z</th>\n",
       "    </tr>\n",
       "  </thead>\n",
       "  <tbody>\n",
       "    <tr>\n",
       "      <th>0</th>\n",
       "      <td>0.21</td>\n",
       "      <td>Premium</td>\n",
       "      <td>E</td>\n",
       "      <td>SI1</td>\n",
       "      <td>59.8</td>\n",
       "      <td>61.0</td>\n",
       "      <td>326</td>\n",
       "      <td>3.89</td>\n",
       "      <td>3.84</td>\n",
       "      <td>2.31</td>\n",
       "    </tr>\n",
       "    <tr>\n",
       "      <th>1</th>\n",
       "      <td>0.23</td>\n",
       "      <td>Good</td>\n",
       "      <td>E</td>\n",
       "      <td>VS1</td>\n",
       "      <td>56.9</td>\n",
       "      <td>65.0</td>\n",
       "      <td>327</td>\n",
       "      <td>4.05</td>\n",
       "      <td>4.07</td>\n",
       "      <td>2.31</td>\n",
       "    </tr>\n",
       "    <tr>\n",
       "      <th>2</th>\n",
       "      <td>0.29</td>\n",
       "      <td>Premium</td>\n",
       "      <td>I</td>\n",
       "      <td>VS2</td>\n",
       "      <td>62.4</td>\n",
       "      <td>58.0</td>\n",
       "      <td>334</td>\n",
       "      <td>4.20</td>\n",
       "      <td>4.23</td>\n",
       "      <td>2.63</td>\n",
       "    </tr>\n",
       "    <tr>\n",
       "      <th>3</th>\n",
       "      <td>0.31</td>\n",
       "      <td>Good</td>\n",
       "      <td>J</td>\n",
       "      <td>SI2</td>\n",
       "      <td>63.3</td>\n",
       "      <td>58.0</td>\n",
       "      <td>335</td>\n",
       "      <td>4.34</td>\n",
       "      <td>4.35</td>\n",
       "      <td>2.75</td>\n",
       "    </tr>\n",
       "    <tr>\n",
       "      <th>4</th>\n",
       "      <td>0.24</td>\n",
       "      <td>Very Good</td>\n",
       "      <td>J</td>\n",
       "      <td>VVS2</td>\n",
       "      <td>62.8</td>\n",
       "      <td>57.0</td>\n",
       "      <td>336</td>\n",
       "      <td>3.94</td>\n",
       "      <td>3.96</td>\n",
       "      <td>2.48</td>\n",
       "    </tr>\n",
       "  </tbody>\n",
       "</table>\n",
       "</div>"
      ],
      "text/plain": [
       "   carat        cut color clarity  depth  table  price     x     y     z\n",
       "0   0.21    Premium     E     SI1   59.8   61.0    326  3.89  3.84  2.31\n",
       "1   0.23       Good     E     VS1   56.9   65.0    327  4.05  4.07  2.31\n",
       "2   0.29    Premium     I     VS2   62.4   58.0    334  4.20  4.23  2.63\n",
       "3   0.31       Good     J     SI2   63.3   58.0    335  4.34  4.35  2.75\n",
       "4   0.24  Very Good     J    VVS2   62.8   57.0    336  3.94  3.96  2.48"
      ]
     },
     "execution_count": 51,
     "metadata": {},
     "output_type": "execute_result"
    }
   ],
   "source": [
    "diamonds.head()"
   ]
  },
  {
   "cell_type": "code",
   "execution_count": 52,
   "id": "43690a20",
   "metadata": {
    "ExecuteTime": {
     "end_time": "2021-09-22T12:44:54.006825Z",
     "start_time": "2021-09-22T12:44:53.987637Z"
    }
   },
   "outputs": [
    {
     "data": {
      "text/html": [
       "<div>\n",
       "<style scoped>\n",
       "    .dataframe tbody tr th:only-of-type {\n",
       "        vertical-align: middle;\n",
       "    }\n",
       "\n",
       "    .dataframe tbody tr th {\n",
       "        vertical-align: top;\n",
       "    }\n",
       "\n",
       "    .dataframe thead th {\n",
       "        text-align: right;\n",
       "    }\n",
       "</style>\n",
       "<table border=\"1\" class=\"dataframe\">\n",
       "  <thead>\n",
       "    <tr style=\"text-align: right;\">\n",
       "      <th></th>\n",
       "      <th>carat</th>\n",
       "      <th>cut</th>\n",
       "      <th>color</th>\n",
       "      <th>clarity</th>\n",
       "      <th>depth</th>\n",
       "      <th>table</th>\n",
       "      <th>x</th>\n",
       "      <th>y</th>\n",
       "      <th>z</th>\n",
       "    </tr>\n",
       "  </thead>\n",
       "  <tbody>\n",
       "    <tr>\n",
       "      <th>0</th>\n",
       "      <td>0.91</td>\n",
       "      <td>Very Good</td>\n",
       "      <td>H</td>\n",
       "      <td>SI2</td>\n",
       "      <td>63.4</td>\n",
       "      <td>57.0</td>\n",
       "      <td>6.10</td>\n",
       "      <td>6.18</td>\n",
       "      <td>3.89</td>\n",
       "    </tr>\n",
       "    <tr>\n",
       "      <th>1</th>\n",
       "      <td>0.38</td>\n",
       "      <td>Good</td>\n",
       "      <td>F</td>\n",
       "      <td>VS2</td>\n",
       "      <td>60.3</td>\n",
       "      <td>61.0</td>\n",
       "      <td>4.68</td>\n",
       "      <td>4.71</td>\n",
       "      <td>2.83</td>\n",
       "    </tr>\n",
       "    <tr>\n",
       "      <th>2</th>\n",
       "      <td>0.52</td>\n",
       "      <td>Ideal</td>\n",
       "      <td>H</td>\n",
       "      <td>VS2</td>\n",
       "      <td>61.8</td>\n",
       "      <td>56.0</td>\n",
       "      <td>5.19</td>\n",
       "      <td>5.16</td>\n",
       "      <td>3.20</td>\n",
       "    </tr>\n",
       "    <tr>\n",
       "      <th>3</th>\n",
       "      <td>1.10</td>\n",
       "      <td>Ideal</td>\n",
       "      <td>G</td>\n",
       "      <td>VS1</td>\n",
       "      <td>61.3</td>\n",
       "      <td>56.0</td>\n",
       "      <td>6.65</td>\n",
       "      <td>6.69</td>\n",
       "      <td>4.09</td>\n",
       "    </tr>\n",
       "    <tr>\n",
       "      <th>4</th>\n",
       "      <td>2.28</td>\n",
       "      <td>Ideal</td>\n",
       "      <td>G</td>\n",
       "      <td>SI2</td>\n",
       "      <td>61.6</td>\n",
       "      <td>57.0</td>\n",
       "      <td>8.44</td>\n",
       "      <td>8.37</td>\n",
       "      <td>5.18</td>\n",
       "    </tr>\n",
       "  </tbody>\n",
       "</table>\n",
       "</div>"
      ],
      "text/plain": [
       "   carat        cut color clarity  depth  table     x     y     z\n",
       "0   0.91  Very Good     H     SI2   63.4   57.0  6.10  6.18  3.89\n",
       "1   0.38       Good     F     VS2   60.3   61.0  4.68  4.71  2.83\n",
       "2   0.52      Ideal     H     VS2   61.8   56.0  5.19  5.16  3.20\n",
       "3   1.10      Ideal     G     VS1   61.3   56.0  6.65  6.69  4.09\n",
       "4   2.28      Ideal     G     SI2   61.6   57.0  8.44  8.37  5.18"
      ]
     },
     "execution_count": 52,
     "metadata": {},
     "output_type": "execute_result"
    }
   ],
   "source": [
    "rdiamonds.head()"
   ]
  },
  {
   "cell_type": "code",
   "execution_count": 53,
   "id": "8eed5606",
   "metadata": {
    "ExecuteTime": {
     "end_time": "2021-09-22T12:44:54.395391Z",
     "start_time": "2021-09-22T12:44:54.388364Z"
    }
   },
   "outputs": [
    {
     "data": {
      "text/plain": [
       "carat      0\n",
       "cut        0\n",
       "color      0\n",
       "clarity    0\n",
       "depth      0\n",
       "table      0\n",
       "x          0\n",
       "y          0\n",
       "z          0\n",
       "dtype: int64"
      ]
     },
     "execution_count": 53,
     "metadata": {},
     "output_type": "execute_result"
    }
   ],
   "source": [
    "rdiamonds.isna().sum()"
   ]
  },
  {
   "cell_type": "code",
   "execution_count": 54,
   "id": "6b9ac6b1",
   "metadata": {
    "ExecuteTime": {
     "end_time": "2021-09-22T12:44:54.755197Z",
     "start_time": "2021-09-22T12:44:54.749365Z"
    }
   },
   "outputs": [
    {
     "data": {
      "text/plain": [
       "array(['SI1', 'VS1', 'VS2', 'SI2', 'VVS2', 'VVS1', 'I1', 'IF'],\n",
       "      dtype=object)"
      ]
     },
     "execution_count": 54,
     "metadata": {},
     "output_type": "execute_result"
    }
   ],
   "source": [
    "diamonds['clarity'].unique()"
   ]
  },
  {
   "cell_type": "code",
   "execution_count": 55,
   "id": "2890fe1d",
   "metadata": {
    "ExecuteTime": {
     "end_time": "2021-09-22T12:44:55.348529Z",
     "start_time": "2021-09-22T12:44:55.120082Z"
    }
   },
   "outputs": [
    {
     "data": {
      "text/plain": [
       "[<matplotlib.lines.Line2D at 0x1309174c0>]"
      ]
     },
     "execution_count": 55,
     "metadata": {},
     "output_type": "execute_result"
    },
    {
     "data": {
      "image/png": "[encoded data removed]",
      "text/plain": [
       "<Figure size 432x288 with 2 Axes>"
      ]
     },
     "metadata": {
      "needs_background": "light"
     },
     "output_type": "display_data"
    }
   ],
   "source": [
    "fig,ax=plt.subplots(1,2)\n",
    "ax[0].plot(diamonds['price'].sort_values().reset_index(drop=True))\n",
    "ax[1].plot(np.log(diamonds['price'].sort_values().reset_index(drop=True)))"
   ]
  },
  {
   "cell_type": "markdown",
   "id": "181d74ad",
   "metadata": {},
   "source": [
    "# Data cleaning"
   ]
  },
  {
   "cell_type": "code",
   "execution_count": 56,
   "id": "2705c0f0",
   "metadata": {
    "ExecuteTime": {
     "end_time": "2021-09-22T12:44:55.811537Z",
     "start_time": "2021-09-22T12:44:55.795181Z"
    }
   },
   "outputs": [],
   "source": [
    "diamonds['cut']=diamonds['cut'].map({'Fair':'1','Ideal':'2','Good':'3','Very Good':'4','Premium':'5'})\n",
    "diamonds['cut']=diamonds['cut'].astype(int)\n",
    "\n",
    "rdiamonds['cut']=rdiamonds['cut'].map({'Fair':'1','Ideal':'2','Good':'3','Very Good':'4','Premium':'5'})\n",
    "rdiamonds['cut']=rdiamonds['cut'].astype(int)"
   ]
  },
  {
   "cell_type": "code",
   "execution_count": 57,
   "id": "96d30a56",
   "metadata": {
    "ExecuteTime": {
     "end_time": "2021-09-22T12:44:56.148734Z",
     "start_time": "2021-09-22T12:44:56.131920Z"
    }
   },
   "outputs": [],
   "source": [
    "diamonds['color']=diamonds['color'].map({'J':'1','I':'2','H':'3','G':'4','F':'5','E':'6','D':'7'})\n",
    "diamonds['color']=diamonds['color'].astype(int)\n",
    "\n",
    "rdiamonds['color']=rdiamonds['color'].map({'J':'1','I':'2','H':'3','G':'4','F':'5','E':'6','D':'7'})\n",
    "rdiamonds['color']=rdiamonds['color'].astype(int)"
   ]
  },
  {
   "cell_type": "code",
   "execution_count": 58,
   "id": "bd56f0ac",
   "metadata": {
    "ExecuteTime": {
     "end_time": "2021-09-22T12:44:56.981101Z",
     "start_time": "2021-09-22T12:44:56.964657Z"
    }
   },
   "outputs": [],
   "source": [
    "diamonds['clarity']=diamonds['clarity'].map({'I1':'1','SI2':'2','SI1':'3','VS2':'4','VS1':'5','VVS2':'6','VVS1':'7', 'IF':'8'})\n",
    "diamonds['clarity']=diamonds['clarity'].astype(int)\n",
    "\n",
    "rdiamonds['clarity']=rdiamonds['clarity'].map({'I1':'1','SI2':'2','SI1':'3','VS2':'4','VS1':'5','VVS2':'6','VVS1':'7', 'IF':'8'})\n",
    "rdiamonds['clarity']=rdiamonds['clarity'].astype(int)"
   ]
  },
  {
   "cell_type": "code",
   "execution_count": 59,
   "id": "2a8d440b",
   "metadata": {
    "ExecuteTime": {
     "end_time": "2021-09-22T12:44:57.547222Z",
     "start_time": "2021-09-22T12:44:57.540411Z"
    }
   },
   "outputs": [
    {
     "data": {
      "text/plain": [
       "carat      0\n",
       "cut        0\n",
       "color      0\n",
       "clarity    0\n",
       "depth      0\n",
       "table      0\n",
       "price      0\n",
       "x          0\n",
       "y          0\n",
       "z          0\n",
       "dtype: int64"
      ]
     },
     "execution_count": 59,
     "metadata": {},
     "output_type": "execute_result"
    }
   ],
   "source": [
    "diamonds.isna().sum()"
   ]
  },
  {
   "cell_type": "code",
   "execution_count": 60,
   "id": "278f7049",
   "metadata": {
    "ExecuteTime": {
     "end_time": "2021-09-22T12:44:58.973577Z",
     "start_time": "2021-09-22T12:44:58.348745Z"
    }
   },
   "outputs": [
    {
     "name": "stderr",
     "output_type": "stream",
     "text": [
      "/usr/local/Cellar/jupyterlab/3.0.16_1/libexec/lib/python3.9/site-packages/seaborn/_decorators.py:36: FutureWarning: Pass the following variables as keyword args: x, y. From version 0.12, the only valid positional argument will be `data`, and passing other arguments without an explicit keyword will result in an error or misinterpretation.\n",
      "  warnings.warn(\n"
     ]
    },
    {
     "data": {
      "text/plain": [
       "<AxesSubplot:xlabel='clarity', ylabel='price'>"
      ]
     },
     "execution_count": 60,
     "metadata": {},
     "output_type": "execute_result"
    },
    {
     "data": {
      "image/png": "[encoded data removed]",
      "text/plain": [
       "<Figure size 432x288 with 1 Axes>"
      ]
     },
     "metadata": {
      "needs_background": "light"
     },
     "output_type": "display_data"
    }
   ],
   "source": [
    "sns.barplot('clarity','price', data=diamonds.query('carat < 1'))"
   ]
  },
  {
   "cell_type": "markdown",
   "id": "b576ba29",
   "metadata": {},
   "source": [
    "# Predictions"
   ]
  },
  {
   "cell_type": "code",
   "execution_count": 61,
   "id": "a2b29f21",
   "metadata": {
    "ExecuteTime": {
     "end_time": "2021-09-22T12:44:59.833316Z",
     "start_time": "2021-09-22T12:44:59.811054Z"
    }
   },
   "outputs": [],
   "source": [
    "#pricemean = diamonds['price'].mean()\n",
    "#rdiamonds['price_predicted'] = pricemean\n",
    "#Your root mean squared error is 3980.713882502374\n",
    "\n",
    "#X = diamonds[['carat']]\n",
    "#y = diamonds['price']\n",
    "#model = LinearRegression()\n",
    "#model.fit(X,y)\n",
    "#model.predict(rdiamonds[['carat']])\n",
    "#rdiamonds['price_predicted'] = model.predict(rdiamonds[['carat']])\n",
    "#Your root mean squared error is 1605.15175707362 \n",
    "\n",
    "lista = ['carat', 'cut', 'color', 'clarity', 'depth', 'table']\n",
    "\n",
    "X = diamonds[lista]\n",
    "y = diamonds['price']\n",
    "\n",
    "X = np.log(X)\n",
    "y = np.log(y)\n",
    "\n",
    "model = LinearRegression()\n",
    "model.fit(X,y)\n",
    "\n",
    "rdiamonds['price_predicted'] = model.predict(np.log(rdiamonds[lista]))\n",
    "rdiamonds['price_predicted']=np.exp(rdiamonds['price_predicted'])\n",
    "\n",
    "rdiamonds['price_predicted']=np.where(rdiamonds['price_predicted']<diamonds['price'].min(), diamonds['price'].min(), rdiamonds['price_predicted'])"
   ]
  },
  {
   "cell_type": "code",
   "execution_count": 62,
   "id": "cdcc44d1",
   "metadata": {
    "ExecuteTime": {
     "end_time": "2021-09-22T12:45:00.782307Z",
     "start_time": "2021-09-22T12:45:00.541601Z"
    }
   },
   "outputs": [],
   "source": [
    "lista = ['carat', 'cut', 'color', 'clarity', 'depth', 'table']\n",
    "\n",
    "X = diamonds[lista]\n",
    "y = diamonds['price']\n",
    "\n",
    "X_std = (X - X.mean())/X.std()\n",
    "X_rick = (rdiamonds[lista] - rdiamonds[lista].mean())/rdiamonds[lista].std()\n",
    "\n",
    "model = KNeighborsRegressor()\n",
    "model.fit(X_std,y)\n",
    "\n",
    "rdiamonds['price_predicted'] = model.predict(X_rick)\n",
    "rdiamonds['price_predicted'] = rdiamonds['price_predicted']\n",
    "\n",
    "rdiamonds['price_predicted']=np.where(rdiamonds['price_predicted']<diamonds['price'].min(), diamonds['price'].min(), rdiamonds['price_predicted'])"
   ]
  },
  {
   "cell_type": "code",
   "execution_count": 63,
   "id": "14582f79",
   "metadata": {
    "ExecuteTime": {
     "end_time": "2021-09-22T12:45:02.568926Z",
     "start_time": "2021-09-22T12:45:01.363785Z"
    }
   },
   "outputs": [
    {
     "data": {
      "text/plain": [
       "639.2563337250567"
      ]
     },
     "execution_count": 63,
     "metadata": {},
     "output_type": "execute_result"
    }
   ],
   "source": [
    "a=mean_squared_error(diamonds['price'], model.predict(X_std))\n",
    "a**(1/2)"
   ]
  },
  {
   "cell_type": "markdown",
   "id": "b93c6fdd",
   "metadata": {
    "cell_style": "center"
   },
   "source": [
    "# Save CSV"
   ]
  },
  {
   "cell_type": "code",
   "execution_count": 64,
   "id": "120dbc5e",
   "metadata": {
    "ExecuteTime": {
     "end_time": "2021-09-22T12:45:03.547679Z",
     "start_time": "2021-09-22T12:45:03.512192Z"
    }
   },
   "outputs": [],
   "source": [
    "rdiamonds.to_csv('project.csv', index=False)"
   ]
  }
 ],
 "metadata": {
  "kernelspec": {
   "display_name": "Python 3",
   "language": "python",
   "name": "python3"
  },
  "language_info": {
   "codemirror_mode": {
    "name": "ipython",
    "version": 3
   },
   "file_extension": ".py",
   "mimetype": "text/x-python",
   "name": "python",
   "nbconvert_exporter": "python",
   "pygments_lexer": "ipython3",
   "version": "3.9.6"
  },
  "toc": {
   "base_numbering": 1,
   "nav_menu": {},
   "number_sections": true,
   "sideBar": true,
   "skip_h1_title": false,
   "title_cell": "Table of Contents",
   "title_sidebar": "Contents",
   "toc_cell": false,
   "toc_position": {},
   "toc_section_display": true,
   "toc_window_display": false
  },
  "varInspector": {
   "cols": {
    "lenName": 16,
    "lenType": 16,
    "lenVar": 40
   },
   "kernels_config": {
    "python": {
     "delete_cmd_postfix": "",
     "delete_cmd_prefix": "del ",
     "library": "var_list.py",
     "varRefreshCmd": "print(var_dic_list())"
    },
    "r": {
     "delete_cmd_postfix": ") ",
     "delete_cmd_prefix": "rm(",
     "library": "var_list.r",
     "varRefreshCmd": "cat(var_dic_list()) "
    }
   },
   "types_to_exclude": [
    "module",
    "function",
    "builtin_function_or_method",
    "instance",
    "_Feature"
   ],
   "window_display": false
  }
 },
 "nbformat": 4,
 "nbformat_minor": 5
}
