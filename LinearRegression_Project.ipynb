{
 "cells": [
  {
   "cell_type": "markdown",
   "id": "f0095c6a",
   "metadata": {},
   "source": [
    "# Importação de biblioteca"
   ]
  },
  {
   "cell_type": "code",
   "execution_count": 10,
   "id": "95ee6406",
   "metadata": {
    "ExecuteTime": {
     "end_time": "2021-09-20T20:21:44.897144Z",
     "start_time": "2021-09-20T20:21:44.643371Z"
    }
   },
   "outputs": [],
   "source": [
    "import pandas as pd\n",
    "from sklearn.linear_model import LinearRegression"
   ]
  },
  {
   "cell_type": "markdown",
   "id": "d90875f9",
   "metadata": {},
   "source": [
    "# Leitura de CSVs"
   ]
  },
  {
   "cell_type": "code",
   "execution_count": 2,
   "id": "cec0fdef",
   "metadata": {
    "ExecuteTime": {
     "end_time": "2021-09-20T20:14:48.756304Z",
     "start_time": "2021-09-20T20:14:48.701309Z"
    }
   },
   "outputs": [],
   "source": [
    "diamonds = pd.read_csv('/Users/rebeca/Downloads/asset-v1_IRONHACK+DAFT+202007_SAO+type@asset+block@diamonds.csv')\n",
    "rdiamonds = pd.read_csv('/Users/rebeca/Downloads/asset-v1_IRONHACK+DAPT+202007_SAO+type@asset+block@rick_diamonds.csv')"
   ]
  },
  {
   "cell_type": "markdown",
   "id": "2f3341db",
   "metadata": {},
   "source": [
    "# Analise exploratoria"
   ]
  },
  {
   "cell_type": "code",
   "execution_count": 3,
   "id": "e74eeed1",
   "metadata": {
    "ExecuteTime": {
     "end_time": "2021-09-20T20:15:10.351954Z",
     "start_time": "2021-09-20T20:15:10.333675Z"
    }
   },
   "outputs": [
    {
     "data": {
      "text/html": [
       "<div>\n",
       "<style scoped>\n",
       "    .dataframe tbody tr th:only-of-type {\n",
       "        vertical-align: middle;\n",
       "    }\n",
       "\n",
       "    .dataframe tbody tr th {\n",
       "        vertical-align: top;\n",
       "    }\n",
       "\n",
       "    .dataframe thead th {\n",
       "        text-align: right;\n",
       "    }\n",
       "</style>\n",
       "<table border=\"1\" class=\"dataframe\">\n",
       "  <thead>\n",
       "    <tr style=\"text-align: right;\">\n",
       "      <th></th>\n",
       "      <th>carat</th>\n",
       "      <th>cut</th>\n",
       "      <th>color</th>\n",
       "      <th>clarity</th>\n",
       "      <th>depth</th>\n",
       "      <th>table</th>\n",
       "      <th>price</th>\n",
       "      <th>x</th>\n",
       "      <th>y</th>\n",
       "      <th>z</th>\n",
       "    </tr>\n",
       "  </thead>\n",
       "  <tbody>\n",
       "    <tr>\n",
       "      <th>0</th>\n",
       "      <td>0.21</td>\n",
       "      <td>Premium</td>\n",
       "      <td>E</td>\n",
       "      <td>SI1</td>\n",
       "      <td>59.8</td>\n",
       "      <td>61.0</td>\n",
       "      <td>326</td>\n",
       "      <td>3.89</td>\n",
       "      <td>3.84</td>\n",
       "      <td>2.31</td>\n",
       "    </tr>\n",
       "    <tr>\n",
       "      <th>1</th>\n",
       "      <td>0.23</td>\n",
       "      <td>Good</td>\n",
       "      <td>E</td>\n",
       "      <td>VS1</td>\n",
       "      <td>56.9</td>\n",
       "      <td>65.0</td>\n",
       "      <td>327</td>\n",
       "      <td>4.05</td>\n",
       "      <td>4.07</td>\n",
       "      <td>2.31</td>\n",
       "    </tr>\n",
       "    <tr>\n",
       "      <th>2</th>\n",
       "      <td>0.29</td>\n",
       "      <td>Premium</td>\n",
       "      <td>I</td>\n",
       "      <td>VS2</td>\n",
       "      <td>62.4</td>\n",
       "      <td>58.0</td>\n",
       "      <td>334</td>\n",
       "      <td>4.20</td>\n",
       "      <td>4.23</td>\n",
       "      <td>2.63</td>\n",
       "    </tr>\n",
       "    <tr>\n",
       "      <th>3</th>\n",
       "      <td>0.31</td>\n",
       "      <td>Good</td>\n",
       "      <td>J</td>\n",
       "      <td>SI2</td>\n",
       "      <td>63.3</td>\n",
       "      <td>58.0</td>\n",
       "      <td>335</td>\n",
       "      <td>4.34</td>\n",
       "      <td>4.35</td>\n",
       "      <td>2.75</td>\n",
       "    </tr>\n",
       "    <tr>\n",
       "      <th>4</th>\n",
       "      <td>0.24</td>\n",
       "      <td>Very Good</td>\n",
       "      <td>J</td>\n",
       "      <td>VVS2</td>\n",
       "      <td>62.8</td>\n",
       "      <td>57.0</td>\n",
       "      <td>336</td>\n",
       "      <td>3.94</td>\n",
       "      <td>3.96</td>\n",
       "      <td>2.48</td>\n",
       "    </tr>\n",
       "  </tbody>\n",
       "</table>\n",
       "</div>"
      ],
      "text/plain": [
       "   carat        cut color clarity  depth  table  price     x     y     z\n",
       "0   0.21    Premium     E     SI1   59.8   61.0    326  3.89  3.84  2.31\n",
       "1   0.23       Good     E     VS1   56.9   65.0    327  4.05  4.07  2.31\n",
       "2   0.29    Premium     I     VS2   62.4   58.0    334  4.20  4.23  2.63\n",
       "3   0.31       Good     J     SI2   63.3   58.0    335  4.34  4.35  2.75\n",
       "4   0.24  Very Good     J    VVS2   62.8   57.0    336  3.94  3.96  2.48"
      ]
     },
     "execution_count": 3,
     "metadata": {},
     "output_type": "execute_result"
    }
   ],
   "source": [
    "diamonds.head()"
   ]
  },
  {
   "cell_type": "code",
   "execution_count": 4,
   "id": "d05b3417",
   "metadata": {
    "ExecuteTime": {
     "end_time": "2021-09-20T20:15:26.623245Z",
     "start_time": "2021-09-20T20:15:26.601795Z"
    }
   },
   "outputs": [
    {
     "data": {
      "text/html": [
       "<div>\n",
       "<style scoped>\n",
       "    .dataframe tbody tr th:only-of-type {\n",
       "        vertical-align: middle;\n",
       "    }\n",
       "\n",
       "    .dataframe tbody tr th {\n",
       "        vertical-align: top;\n",
       "    }\n",
       "\n",
       "    .dataframe thead th {\n",
       "        text-align: right;\n",
       "    }\n",
       "</style>\n",
       "<table border=\"1\" class=\"dataframe\">\n",
       "  <thead>\n",
       "    <tr style=\"text-align: right;\">\n",
       "      <th></th>\n",
       "      <th>carat</th>\n",
       "      <th>cut</th>\n",
       "      <th>color</th>\n",
       "      <th>clarity</th>\n",
       "      <th>depth</th>\n",
       "      <th>table</th>\n",
       "      <th>x</th>\n",
       "      <th>y</th>\n",
       "      <th>z</th>\n",
       "    </tr>\n",
       "  </thead>\n",
       "  <tbody>\n",
       "    <tr>\n",
       "      <th>0</th>\n",
       "      <td>0.91</td>\n",
       "      <td>Very Good</td>\n",
       "      <td>H</td>\n",
       "      <td>SI2</td>\n",
       "      <td>63.4</td>\n",
       "      <td>57.0</td>\n",
       "      <td>6.10</td>\n",
       "      <td>6.18</td>\n",
       "      <td>3.89</td>\n",
       "    </tr>\n",
       "    <tr>\n",
       "      <th>1</th>\n",
       "      <td>0.38</td>\n",
       "      <td>Good</td>\n",
       "      <td>F</td>\n",
       "      <td>VS2</td>\n",
       "      <td>60.3</td>\n",
       "      <td>61.0</td>\n",
       "      <td>4.68</td>\n",
       "      <td>4.71</td>\n",
       "      <td>2.83</td>\n",
       "    </tr>\n",
       "    <tr>\n",
       "      <th>2</th>\n",
       "      <td>0.52</td>\n",
       "      <td>Ideal</td>\n",
       "      <td>H</td>\n",
       "      <td>VS2</td>\n",
       "      <td>61.8</td>\n",
       "      <td>56.0</td>\n",
       "      <td>5.19</td>\n",
       "      <td>5.16</td>\n",
       "      <td>3.20</td>\n",
       "    </tr>\n",
       "    <tr>\n",
       "      <th>3</th>\n",
       "      <td>1.10</td>\n",
       "      <td>Ideal</td>\n",
       "      <td>G</td>\n",
       "      <td>VS1</td>\n",
       "      <td>61.3</td>\n",
       "      <td>56.0</td>\n",
       "      <td>6.65</td>\n",
       "      <td>6.69</td>\n",
       "      <td>4.09</td>\n",
       "    </tr>\n",
       "    <tr>\n",
       "      <th>4</th>\n",
       "      <td>2.28</td>\n",
       "      <td>Ideal</td>\n",
       "      <td>G</td>\n",
       "      <td>SI2</td>\n",
       "      <td>61.6</td>\n",
       "      <td>57.0</td>\n",
       "      <td>8.44</td>\n",
       "      <td>8.37</td>\n",
       "      <td>5.18</td>\n",
       "    </tr>\n",
       "  </tbody>\n",
       "</table>\n",
       "</div>"
      ],
      "text/plain": [
       "   carat        cut color clarity  depth  table     x     y     z\n",
       "0   0.91  Very Good     H     SI2   63.4   57.0  6.10  6.18  3.89\n",
       "1   0.38       Good     F     VS2   60.3   61.0  4.68  4.71  2.83\n",
       "2   0.52      Ideal     H     VS2   61.8   56.0  5.19  5.16  3.20\n",
       "3   1.10      Ideal     G     VS1   61.3   56.0  6.65  6.69  4.09\n",
       "4   2.28      Ideal     G     SI2   61.6   57.0  8.44  8.37  5.18"
      ]
     },
     "execution_count": 4,
     "metadata": {},
     "output_type": "execute_result"
    }
   ],
   "source": [
    "rdiamonds.head()"
   ]
  },
  {
   "cell_type": "markdown",
   "id": "19c7a450",
   "metadata": {},
   "source": [
    "# limpeza de dados"
   ]
  },
  {
   "cell_type": "code",
   "execution_count": null,
   "id": "76a48d38",
   "metadata": {},
   "outputs": [],
   "source": []
  },
  {
   "cell_type": "markdown",
   "id": "a5faff05",
   "metadata": {},
   "source": [
    "# previsão"
   ]
  },
  {
   "cell_type": "code",
   "execution_count": 12,
   "id": "8b988b05",
   "metadata": {
    "ExecuteTime": {
     "end_time": "2021-09-20T20:26:32.518312Z",
     "start_time": "2021-09-20T20:26:32.505296Z"
    }
   },
   "outputs": [],
   "source": [
    "#pricemean = diamonds['price'].mean()\n",
    "#rdiamonds['price_predicted'] = pricemean\n",
    "#Your root mean squared error is 3980.713882502374\n",
    "\n",
    "X = diamonds[['carat']]\n",
    "y = diamonds['price']\n",
    "model = LinearRegression()\n",
    "model.fit(X,y)\n",
    "model.predict(rdiamonds[['carat']])\n",
    "rdiamonds['price_predicted'] = model.predict(rdiamonds[['carat']])\n",
    "#Your root mean squared error is 1605.15175707362 \n",
    "#Sem limpeza"
   ]
  },
  {
   "cell_type": "markdown",
   "id": "4cf19a49",
   "metadata": {},
   "source": [
    "# salvar o csv"
   ]
  },
  {
   "cell_type": "code",
   "execution_count": 13,
   "id": "718a164f",
   "metadata": {
    "ExecuteTime": {
     "end_time": "2021-09-20T20:26:39.769072Z",
     "start_time": "2021-09-20T20:26:39.729237Z"
    }
   },
   "outputs": [],
   "source": [
    "rdiamonds.to_csv('resposta.csv', index=False)"
   ]
  },
  {
   "cell_type": "code",
   "execution_count": null,
   "id": "83e8672e",
   "metadata": {},
   "outputs": [],
   "source": []
  }
 ],
 "metadata": {
  "kernelspec": {
   "display_name": "Python 3",
   "language": "python",
   "name": "python3"
  },
  "language_info": {
   "codemirror_mode": {
    "name": "ipython",
    "version": 3
   },
   "file_extension": ".py",
   "mimetype": "text/x-python",
   "name": "python",
   "nbconvert_exporter": "python",
   "pygments_lexer": "ipython3",
   "version": "3.9.6"
  },
  "toc": {
   "base_numbering": 1,
   "nav_menu": {},
   "number_sections": true,
   "sideBar": true,
   "skip_h1_title": false,
   "title_cell": "Table of Contents",
   "title_sidebar": "Contents",
   "toc_cell": false,
   "toc_position": {},
   "toc_section_display": true,
   "toc_window_display": false
  },
  "varInspector": {
   "cols": {
    "lenName": 16,
    "lenType": 16,
    "lenVar": 40
   },
   "kernels_config": {
    "python": {
     "delete_cmd_postfix": "",
     "delete_cmd_prefix": "del ",
     "library": "var_list.py",
     "varRefreshCmd": "print(var_dic_list())"
    },
    "r": {
     "delete_cmd_postfix": ") ",
     "delete_cmd_prefix": "rm(",
     "library": "var_list.r",
     "varRefreshCmd": "cat(var_dic_list()) "
    }
   },
   "types_to_exclude": [
    "module",
    "function",
    "builtin_function_or_method",
    "instance",
    "_Feature"
   ],
   "window_display": false
  }
 },
 "nbformat": 4,
 "nbformat_minor": 5
}
