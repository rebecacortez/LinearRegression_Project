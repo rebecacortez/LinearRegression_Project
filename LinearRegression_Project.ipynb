{
 "cells": [
  {
   "cell_type": "code",
   "execution_count": 47,
   "id": "18cebcdb",
   "metadata": {
    "ExecuteTime": {
     "end_time": "2021-09-21T21:26:05.363514Z",
     "start_time": "2021-09-21T21:26:05.360615Z"
    }
   },
   "outputs": [],
   "source": [
    "import pandas as pd\n",
    "from sklearn.linear_model import LinearRegression\n",
    "from sklearn.metrics import mean_squared_error\n",
    "from sklearn.neighbors import KNeighborsRegressor\n",
    "import matplotlib.pyplot as plt\n",
    "import seaborn as sns\n",
    "import numpy as np\n",
    "import statistics"
   ]
  },
  {
   "cell_type": "code",
   "execution_count": 48,
   "id": "8e102c0f",
   "metadata": {
    "ExecuteTime": {
     "end_time": "2021-09-21T21:26:05.967798Z",
     "start_time": "2021-09-21T21:26:05.922403Z"
    }
   },
   "outputs": [],
   "source": [
    "diamonds = pd.read_csv('diamonds.csv')\n",
    "rdiamonds = pd.read_csv('rick_diamonds.csv')"
   ]
  },
  {
   "cell_type": "markdown",
   "id": "9511cfd0",
   "metadata": {},
   "source": [
    "# Exploratory data analysis"
   ]
  },
  {
   "cell_type": "code",
   "execution_count": 33,
   "id": "a533de79",
   "metadata": {
    "ExecuteTime": {
     "end_time": "2021-09-21T19:49:11.627691Z",
     "start_time": "2021-09-21T19:49:11.616911Z"
    }
   },
   "outputs": [
    {
     "data": {
      "text/html": [
       "<div>\n",
       "<style scoped>\n",
       "    .dataframe tbody tr th:only-of-type {\n",
       "        vertical-align: middle;\n",
       "    }\n",
       "\n",
       "    .dataframe tbody tr th {\n",
       "        vertical-align: top;\n",
       "    }\n",
       "\n",
       "    .dataframe thead th {\n",
       "        text-align: right;\n",
       "    }\n",
       "</style>\n",
       "<table border=\"1\" class=\"dataframe\">\n",
       "  <thead>\n",
       "    <tr style=\"text-align: right;\">\n",
       "      <th></th>\n",
       "      <th>carat</th>\n",
       "      <th>cut</th>\n",
       "      <th>color</th>\n",
       "      <th>clarity</th>\n",
       "      <th>depth</th>\n",
       "      <th>table</th>\n",
       "      <th>price</th>\n",
       "      <th>x</th>\n",
       "      <th>y</th>\n",
       "      <th>z</th>\n",
       "    </tr>\n",
       "  </thead>\n",
       "  <tbody>\n",
       "    <tr>\n",
       "      <th>0</th>\n",
       "      <td>0.21</td>\n",
       "      <td>Premium</td>\n",
       "      <td>E</td>\n",
       "      <td>SI1</td>\n",
       "      <td>59.8</td>\n",
       "      <td>61.0</td>\n",
       "      <td>326</td>\n",
       "      <td>3.89</td>\n",
       "      <td>3.84</td>\n",
       "      <td>2.31</td>\n",
       "    </tr>\n",
       "    <tr>\n",
       "      <th>1</th>\n",
       "      <td>0.23</td>\n",
       "      <td>Good</td>\n",
       "      <td>E</td>\n",
       "      <td>VS1</td>\n",
       "      <td>56.9</td>\n",
       "      <td>65.0</td>\n",
       "      <td>327</td>\n",
       "      <td>4.05</td>\n",
       "      <td>4.07</td>\n",
       "      <td>2.31</td>\n",
       "    </tr>\n",
       "    <tr>\n",
       "      <th>2</th>\n",
       "      <td>0.29</td>\n",
       "      <td>Premium</td>\n",
       "      <td>I</td>\n",
       "      <td>VS2</td>\n",
       "      <td>62.4</td>\n",
       "      <td>58.0</td>\n",
       "      <td>334</td>\n",
       "      <td>4.20</td>\n",
       "      <td>4.23</td>\n",
       "      <td>2.63</td>\n",
       "    </tr>\n",
       "    <tr>\n",
       "      <th>3</th>\n",
       "      <td>0.31</td>\n",
       "      <td>Good</td>\n",
       "      <td>J</td>\n",
       "      <td>SI2</td>\n",
       "      <td>63.3</td>\n",
       "      <td>58.0</td>\n",
       "      <td>335</td>\n",
       "      <td>4.34</td>\n",
       "      <td>4.35</td>\n",
       "      <td>2.75</td>\n",
       "    </tr>\n",
       "    <tr>\n",
       "      <th>4</th>\n",
       "      <td>0.24</td>\n",
       "      <td>Very Good</td>\n",
       "      <td>J</td>\n",
       "      <td>VVS2</td>\n",
       "      <td>62.8</td>\n",
       "      <td>57.0</td>\n",
       "      <td>336</td>\n",
       "      <td>3.94</td>\n",
       "      <td>3.96</td>\n",
       "      <td>2.48</td>\n",
       "    </tr>\n",
       "  </tbody>\n",
       "</table>\n",
       "</div>"
      ],
      "text/plain": [
       "   carat        cut color clarity  depth  table  price     x     y     z\n",
       "0   0.21    Premium     E     SI1   59.8   61.0    326  3.89  3.84  2.31\n",
       "1   0.23       Good     E     VS1   56.9   65.0    327  4.05  4.07  2.31\n",
       "2   0.29    Premium     I     VS2   62.4   58.0    334  4.20  4.23  2.63\n",
       "3   0.31       Good     J     SI2   63.3   58.0    335  4.34  4.35  2.75\n",
       "4   0.24  Very Good     J    VVS2   62.8   57.0    336  3.94  3.96  2.48"
      ]
     },
     "execution_count": 33,
     "metadata": {},
     "output_type": "execute_result"
    }
   ],
   "source": [
    "diamonds.head()"
   ]
  },
  {
   "cell_type": "code",
   "execution_count": 34,
   "id": "025ab573",
   "metadata": {
    "ExecuteTime": {
     "end_time": "2021-09-21T19:49:12.144906Z",
     "start_time": "2021-09-21T19:49:12.133923Z"
    }
   },
   "outputs": [
    {
     "data": {
      "text/html": [
       "<div>\n",
       "<style scoped>\n",
       "    .dataframe tbody tr th:only-of-type {\n",
       "        vertical-align: middle;\n",
       "    }\n",
       "\n",
       "    .dataframe tbody tr th {\n",
       "        vertical-align: top;\n",
       "    }\n",
       "\n",
       "    .dataframe thead th {\n",
       "        text-align: right;\n",
       "    }\n",
       "</style>\n",
       "<table border=\"1\" class=\"dataframe\">\n",
       "  <thead>\n",
       "    <tr style=\"text-align: right;\">\n",
       "      <th></th>\n",
       "      <th>carat</th>\n",
       "      <th>cut</th>\n",
       "      <th>color</th>\n",
       "      <th>clarity</th>\n",
       "      <th>depth</th>\n",
       "      <th>table</th>\n",
       "      <th>x</th>\n",
       "      <th>y</th>\n",
       "      <th>z</th>\n",
       "    </tr>\n",
       "  </thead>\n",
       "  <tbody>\n",
       "    <tr>\n",
       "      <th>0</th>\n",
       "      <td>0.91</td>\n",
       "      <td>Very Good</td>\n",
       "      <td>H</td>\n",
       "      <td>SI2</td>\n",
       "      <td>63.4</td>\n",
       "      <td>57.0</td>\n",
       "      <td>6.10</td>\n",
       "      <td>6.18</td>\n",
       "      <td>3.89</td>\n",
       "    </tr>\n",
       "    <tr>\n",
       "      <th>1</th>\n",
       "      <td>0.38</td>\n",
       "      <td>Good</td>\n",
       "      <td>F</td>\n",
       "      <td>VS2</td>\n",
       "      <td>60.3</td>\n",
       "      <td>61.0</td>\n",
       "      <td>4.68</td>\n",
       "      <td>4.71</td>\n",
       "      <td>2.83</td>\n",
       "    </tr>\n",
       "    <tr>\n",
       "      <th>2</th>\n",
       "      <td>0.52</td>\n",
       "      <td>Ideal</td>\n",
       "      <td>H</td>\n",
       "      <td>VS2</td>\n",
       "      <td>61.8</td>\n",
       "      <td>56.0</td>\n",
       "      <td>5.19</td>\n",
       "      <td>5.16</td>\n",
       "      <td>3.20</td>\n",
       "    </tr>\n",
       "    <tr>\n",
       "      <th>3</th>\n",
       "      <td>1.10</td>\n",
       "      <td>Ideal</td>\n",
       "      <td>G</td>\n",
       "      <td>VS1</td>\n",
       "      <td>61.3</td>\n",
       "      <td>56.0</td>\n",
       "      <td>6.65</td>\n",
       "      <td>6.69</td>\n",
       "      <td>4.09</td>\n",
       "    </tr>\n",
       "    <tr>\n",
       "      <th>4</th>\n",
       "      <td>2.28</td>\n",
       "      <td>Ideal</td>\n",
       "      <td>G</td>\n",
       "      <td>SI2</td>\n",
       "      <td>61.6</td>\n",
       "      <td>57.0</td>\n",
       "      <td>8.44</td>\n",
       "      <td>8.37</td>\n",
       "      <td>5.18</td>\n",
       "    </tr>\n",
       "  </tbody>\n",
       "</table>\n",
       "</div>"
      ],
      "text/plain": [
       "   carat        cut color clarity  depth  table     x     y     z\n",
       "0   0.91  Very Good     H     SI2   63.4   57.0  6.10  6.18  3.89\n",
       "1   0.38       Good     F     VS2   60.3   61.0  4.68  4.71  2.83\n",
       "2   0.52      Ideal     H     VS2   61.8   56.0  5.19  5.16  3.20\n",
       "3   1.10      Ideal     G     VS1   61.3   56.0  6.65  6.69  4.09\n",
       "4   2.28      Ideal     G     SI2   61.6   57.0  8.44  8.37  5.18"
      ]
     },
     "execution_count": 34,
     "metadata": {},
     "output_type": "execute_result"
    }
   ],
   "source": [
    "rdiamonds.head()"
   ]
  },
  {
   "cell_type": "code",
   "execution_count": 35,
   "id": "cc9c9dc0",
   "metadata": {
    "ExecuteTime": {
     "end_time": "2021-09-21T19:49:12.601205Z",
     "start_time": "2021-09-21T19:49:12.595324Z"
    }
   },
   "outputs": [
    {
     "data": {
      "text/plain": [
       "carat      0\n",
       "cut        0\n",
       "color      0\n",
       "clarity    0\n",
       "depth      0\n",
       "table      0\n",
       "x          0\n",
       "y          0\n",
       "z          0\n",
       "dtype: int64"
      ]
     },
     "execution_count": 35,
     "metadata": {},
     "output_type": "execute_result"
    }
   ],
   "source": [
    "rdiamonds.isna().sum()"
   ]
  },
  {
   "cell_type": "code",
   "execution_count": 36,
   "id": "980d284c",
   "metadata": {
    "ExecuteTime": {
     "end_time": "2021-09-21T19:49:13.298324Z",
     "start_time": "2021-09-21T19:49:13.293083Z"
    }
   },
   "outputs": [
    {
     "data": {
      "text/plain": [
       "array(['SI1', 'VS1', 'VS2', 'SI2', 'VVS2', 'VVS1', 'I1', 'IF'],\n",
       "      dtype=object)"
      ]
     },
     "execution_count": 36,
     "metadata": {},
     "output_type": "execute_result"
    }
   ],
   "source": [
    "diamonds['clarity'].unique()"
   ]
  },
  {
   "cell_type": "code",
   "execution_count": 37,
   "id": "38ab2c01",
   "metadata": {
    "ExecuteTime": {
     "end_time": "2021-09-21T19:49:14.328792Z",
     "start_time": "2021-09-21T19:49:14.137010Z"
    }
   },
   "outputs": [
    {
     "data": {
      "text/plain": [
       "[<matplotlib.lines.Line2D at 0x130767e20>]"
      ]
     },
     "execution_count": 37,
     "metadata": {},
     "output_type": "execute_result"
    },
    {
     "data": {
      "image/png": "[encoded data removed]",
      "text/plain": [
       "<Figure size 432x288 with 2 Axes>"
      ]
     },
     "metadata": {
      "needs_background": "light"
     },
     "output_type": "display_data"
    }
   ],
   "source": [
    "fig,ax=plt.subplots(1,2)\n",
    "ax[0].plot(diamonds['price'].sort_values().reset_index(drop=True))\n",
    "ax[1].plot(np.log(diamonds['price'].sort_values().reset_index(drop=True)))"
   ]
  },
  {
   "cell_type": "markdown",
   "id": "1835d785",
   "metadata": {},
   "source": [
    "# Data cleaning"
   ]
  },
  {
   "cell_type": "code",
   "execution_count": 38,
   "id": "b0334ce5",
   "metadata": {
    "ExecuteTime": {
     "end_time": "2021-09-21T19:49:15.602637Z",
     "start_time": "2021-09-21T19:49:15.587534Z"
    }
   },
   "outputs": [],
   "source": [
    "diamonds['cut']=diamonds['cut'].map({'Fair':'1','Ideal':'2','Good':'3','Very Good':'4','Premium':'5'})\n",
    "diamonds['cut']=diamonds['cut'].astype(int)\n",
    "\n",
    "#alteração diamonds rick\n",
    "rdiamonds['cut']=rdiamonds['cut'].map({'Fair':'1','Ideal':'2','Good':'3','Very Good':'4','Premium':'5'})\n",
    "rdiamonds['cut']=rdiamonds['cut'].astype(int)"
   ]
  },
  {
   "cell_type": "code",
   "execution_count": 39,
   "id": "5465265b",
   "metadata": {
    "ExecuteTime": {
     "end_time": "2021-09-21T19:49:16.243147Z",
     "start_time": "2021-09-21T19:49:16.229090Z"
    }
   },
   "outputs": [],
   "source": [
    "diamonds['color']=diamonds['color'].map({'J':'1','I':'2','H':'3','G':'4','F':'5','E':'6','D':'7'})\n",
    "diamonds['color']=diamonds['color'].astype(int)\n",
    "\n",
    "rdiamonds['color']=rdiamonds['color'].map({'J':'1','I':'2','H':'3','G':'4','F':'5','E':'6','D':'7'})\n",
    "rdiamonds['color']=rdiamonds['color'].astype(int)"
   ]
  },
  {
   "cell_type": "code",
   "execution_count": 40,
   "id": "cb0b8234",
   "metadata": {
    "ExecuteTime": {
     "end_time": "2021-09-21T19:49:16.739335Z",
     "start_time": "2021-09-21T19:49:16.724212Z"
    }
   },
   "outputs": [],
   "source": [
    "diamonds['clarity']=diamonds['clarity'].map({'I1':'1','SI2':'2','SI1':'3','VS2':'4','VS1':'5','VVS2':'6','VVS1':'7', 'IF':'8'})\n",
    "diamonds['clarity']=diamonds['clarity'].astype(int)\n",
    "\n",
    "rdiamonds['clarity']=rdiamonds['clarity'].map({'I1':'1','SI2':'2','SI1':'3','VS2':'4','VS1':'5','VVS2':'6','VVS1':'7', 'IF':'8'})\n",
    "rdiamonds['clarity']=rdiamonds['clarity'].astype(int)"
   ]
  },
  {
   "cell_type": "code",
   "execution_count": 41,
   "id": "0e71ae6a",
   "metadata": {
    "ExecuteTime": {
     "end_time": "2021-09-21T19:49:17.664109Z",
     "start_time": "2021-09-21T19:49:17.657710Z"
    }
   },
   "outputs": [
    {
     "data": {
      "text/plain": [
       "carat      0\n",
       "cut        0\n",
       "color      0\n",
       "clarity    0\n",
       "depth      0\n",
       "table      0\n",
       "price      0\n",
       "x          0\n",
       "y          0\n",
       "z          0\n",
       "dtype: int64"
      ]
     },
     "execution_count": 41,
     "metadata": {},
     "output_type": "execute_result"
    }
   ],
   "source": [
    "diamonds.isna().sum()"
   ]
  },
  {
   "cell_type": "code",
   "execution_count": 42,
   "id": "aa4970f9",
   "metadata": {
    "ExecuteTime": {
     "end_time": "2021-09-21T19:49:18.977936Z",
     "start_time": "2021-09-21T19:49:18.456837Z"
    }
   },
   "outputs": [
    {
     "name": "stderr",
     "output_type": "stream",
     "text": [
      "/usr/local/Cellar/jupyterlab/3.0.16_1/libexec/lib/python3.9/site-packages/seaborn/_decorators.py:36: FutureWarning: Pass the following variables as keyword args: x, y. From version 0.12, the only valid positional argument will be `data`, and passing other arguments without an explicit keyword will result in an error or misinterpretation.\n",
      "  warnings.warn(\n"
     ]
    },
    {
     "data": {
      "text/plain": [
       "<AxesSubplot:xlabel='clarity', ylabel='price'>"
      ]
     },
     "execution_count": 42,
     "metadata": {},
     "output_type": "execute_result"
    },
    {
     "data": {
      "image/png": "[encoded data removed]",
      "text/plain": [
       "<Figure size 432x288 with 1 Axes>"
      ]
     },
     "metadata": {
      "needs_background": "light"
     },
     "output_type": "display_data"
    }
   ],
   "source": [
    "sns.barplot('clarity','price', data=diamonds.query('carat < 1'))"
   ]
  },
  {
   "cell_type": "markdown",
   "id": "2c21adcb",
   "metadata": {},
   "source": [
    "# Predictions"
   ]
  },
  {
   "cell_type": "code",
   "execution_count": 43,
   "id": "0fe55cf6",
   "metadata": {
    "ExecuteTime": {
     "end_time": "2021-09-21T19:49:20.582802Z",
     "start_time": "2021-09-21T19:49:20.560517Z"
    }
   },
   "outputs": [],
   "source": [
    "#pricemean = diamonds['price'].mean()\n",
    "#rdiamonds['price_predicted'] = pricemean\n",
    "#Your root mean squared error is 3980.713882502374\n",
    "\n",
    "#X = diamonds[['carat']]\n",
    "#y = diamonds['price']\n",
    "#model = LinearRegression()\n",
    "#model.fit(X,y)\n",
    "#model.predict(rdiamonds[['carat']])\n",
    "#rdiamonds['price_predicted'] = model.predict(rdiamonds[['carat']])\n",
    "#Your root mean squared error is 1605.15175707362 \n",
    "\n",
    "lista = ['carat', 'cut', 'color', 'clarity', 'depth', 'table']\n",
    "\n",
    "X = diamonds[lista]\n",
    "y = diamonds['price']\n",
    "\n",
    "X = np.log(X)\n",
    "y = np.log(y)\n",
    "\n",
    "model = LinearRegression()\n",
    "model.fit(X,y)\n",
    "\n",
    "rdiamonds['price_predicted'] = model.predict(np.log(rdiamonds[lista]))\n",
    "rdiamonds['price_predicted']=np.exp(rdiamonds['price_predicted'])\n",
    "\n",
    "rdiamonds['price_predicted']=np.where(rdiamonds['price_predicted']<diamonds['price'].min(), diamonds['price'].min(), rdiamonds['price_predicted'])"
   ]
  },
  {
   "cell_type": "code",
   "execution_count": 44,
   "id": "b7cbece1",
   "metadata": {
    "ExecuteTime": {
     "end_time": "2021-09-21T19:49:21.694074Z",
     "start_time": "2021-09-21T19:49:21.505490Z"
    }
   },
   "outputs": [],
   "source": [
    "lista = ['carat', 'cut', 'color', 'clarity', 'depth', 'table']\n",
    "\n",
    "X = diamonds[lista]\n",
    "y = diamonds['price']\n",
    "\n",
    "X_std = (X - X.mean())/X.std()\n",
    "X_rick = (rdiamonds[lista] - rdiamonds[lista].mean())/rdiamonds[lista].std()\n",
    "\n",
    "model = KNeighborsRegressor()\n",
    "model.fit(X_std,y)\n",
    "\n",
    "rdiamonds['price_predicted'] = model.predict(X_rick)\n",
    "rdiamonds['price_predicted'] = rdiamonds['price_predicted']\n",
    "\n",
    "rdiamonds['price_predicted']=np.where(rdiamonds['price_predicted']<diamonds['price'].min(), diamonds['price'].min(), rdiamonds['price_predicted'])"
   ]
  },
  {
   "cell_type": "code",
   "execution_count": 45,
   "id": "bd77e0d4",
   "metadata": {
    "ExecuteTime": {
     "end_time": "2021-09-21T19:49:23.376706Z",
     "start_time": "2021-09-21T19:49:22.439391Z"
    }
   },
   "outputs": [
    {
     "data": {
      "text/plain": [
       "639.2563337250567"
      ]
     },
     "execution_count": 45,
     "metadata": {},
     "output_type": "execute_result"
    }
   ],
   "source": [
    "a=mean_squared_error(diamonds['price'], model.predict(X_std))\n",
    "a**(1/2)"
   ]
  },
  {
   "cell_type": "markdown",
   "id": "30c76d19",
   "metadata": {
    "cell_style": "center"
   },
   "source": [
    "# Save CSV"
   ]
  },
  {
   "cell_type": "code",
   "execution_count": 46,
   "id": "89a23817",
   "metadata": {
    "ExecuteTime": {
     "end_time": "2021-09-21T19:49:25.945392Z",
     "start_time": "2021-09-21T19:49:25.915666Z"
    }
   },
   "outputs": [],
   "source": [
    "rdiamonds.to_csv('resposta.csv', index=False)"
   ]
  }
 ],
 "metadata": {
  "kernelspec": {
   "display_name": "Python 3",
   "language": "python",
   "name": "python3"
  },
  "language_info": {
   "codemirror_mode": {
    "name": "ipython",
    "version": 3
   },
   "file_extension": ".py",
   "mimetype": "text/x-python",
   "name": "python",
   "nbconvert_exporter": "python",
   "pygments_lexer": "ipython3",
   "version": "3.9.6"
  },
  "toc": {
   "base_numbering": 1,
   "nav_menu": {},
   "number_sections": true,
   "sideBar": true,
   "skip_h1_title": false,
   "title_cell": "Table of Contents",
   "title_sidebar": "Contents",
   "toc_cell": false,
   "toc_position": {},
   "toc_section_display": true,
   "toc_window_display": false
  },
  "varInspector": {
   "cols": {
    "lenName": 16,
    "lenType": 16,
    "lenVar": 40
   },
   "kernels_config": {
    "python": {
     "delete_cmd_postfix": "",
     "delete_cmd_prefix": "del ",
     "library": "var_list.py",
     "varRefreshCmd": "print(var_dic_list())"
    },
    "r": {
     "delete_cmd_postfix": ") ",
     "delete_cmd_prefix": "rm(",
     "library": "var_list.r",
     "varRefreshCmd": "cat(var_dic_list()) "
    }
   },
   "types_to_exclude": [
    "module",
    "function",
    "builtin_function_or_method",
    "instance",
    "_Feature"
   ],
   "window_display": false
  }
 },
 "nbformat": 4,
 "nbformat_minor": 5
}
